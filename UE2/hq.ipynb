{
 "cells": [
  {
   "cell_type": "markdown",
   "metadata": {},
   "source": [
    "# Übung 2 Detektion von Verkehrsschildern"
   ]
  },
  {
   "cell_type": "markdown",
   "metadata": {},
   "source": [
    "**German Traffic Sign Detection Benchmark**\n",
    "\n",
    "Detallierte Beschreibung des Datensatzes siehe unter folgendem [Link](http://benchmark.ini.rub.de/?section=gtsdb&subsection=news)"
   ]
  },
  {
   "cell_type": "markdown",
   "metadata": {},
   "source": [
    "## Imports"
   ]
  },
  {
   "cell_type": "code",
   "execution_count": 22,
   "metadata": {},
   "outputs": [],
   "source": [
    "import os\n",
    "\n",
    "import csv\n",
    "import wget #wget是一个从网络上自动下载文件的自由工具。它支持HTTP，HTTPS和FTP协议，可以使用HTTP代理。\n",
    "\n",
    "import cv2\n",
    "import math\n",
    "import numpy as np\n",
    "import pandas as pd\n",
    "import matplotlib.pyplot as plt\n",
    "from IPython.display import display\n",
    "from ipywidgets import interact, interactive, fixed, interact_manual, widgets"
   ]
  },
  {
   "cell_type": "code",
   "execution_count": 23,
   "metadata": {},
   "outputs": [
    {
     "data": {
      "application/vnd.jupyter.widget-view+json": {
       "model_id": "4f7fd9cd629c447f8ef8d3f463a8116a",
       "version_major": 2,
       "version_minor": 0
      },
      "text/plain": [
       "interactive(children=(IntSlider(value=10, description='x', max=30, min=-10), Output()), _dom_classes=('widget-…"
      ]
     },
     "metadata": {},
     "output_type": "display_data"
    }
   ],
   "source": [
    "# Testfunktion für ipywidgets: \n",
    "# Es soll ein Slider angezeigt werden. Der Wertebereich des Sliders\n",
    "# soll zwischen -10(min) und 30(max) liegen. \n",
    "# Entsprechend der Sliderposition soll ein Ergebniswert angezeigt werden.\n",
    "def f(x):\n",
    "    return 3 * x\n",
    "interact(f, x= 10);"
   ]
  },
  {
   "cell_type": "markdown",
   "metadata": {},
   "source": [
    "## Globale Variablen\n",
    "\n",
    "Um hartcodierte Bezeichner/Namen in den Funktionen zu vermeiden, definiere an dieser Stelle alle Variablen, die global verwendet werden."
   ]
  },
  {
   "cell_type": "code",
   "execution_count": 24,
   "metadata": {},
   "outputs": [],
   "source": [
    "# Definiere den Pfad zum heruntergeladenen Datenordner\n",
    "DATA_PATH = 'C:/Users/hqpet/Desktop/BildAuto_Hausaufgabe/UE2/'\n",
    "\n",
    "# Prüfe, ob der Pfad existiert / korrekt eingegeben wurde\n",
    "assert os.path.exists(DATA_PATH), \"Der angegebene Pfad existriert nicht.\""
   ]
  },
  {
   "cell_type": "code",
   "execution_count": 25,
   "metadata": {},
   "outputs": [],
   "source": [
    "# Definiere den Pfad zur Datei gt.txt\n",
    "\"\"\"\n",
    "TIPP: arbeite zuerst mit der Datei new_gt.txt, um den Rechenaufwand bei dem Aufruf \n",
    "der Funktion calculate_hough_cirles() zu reduzieren.\n",
    "Diese Datei enthält wenige Bilder mit meist gut sichtbaren Verkehrszeichen \n",
    "\n",
    "\"\"\"\n",
    "### TO DO ###\n",
    "# Definiere den Pfad zur gt.txt-Datei / zur new_gt.txt-Datei\n",
    "GT_TXT_PATH = os.path.join(DATA_PATH, 'new_gt.txt')\n",
    "assert os.path.exists(GT_TXT_PATH), \"Der angegebene Pfad existriert nicht.\""
   ]
  },
  {
   "cell_type": "code",
   "execution_count": 26,
   "metadata": {},
   "outputs": [],
   "source": [
    "# Prohibitory Class IDs \n",
    "PROHIBITORY_CLASS_IDs = [ 0, 1, 2, 3, 4, 5, 7, 8, 9, 10, 15, 16]\n",
    "\n",
    "# Mandatory Class IDs\n",
    "MANDATORY_CLASS_IDs = [ 33, 34, 35, 36, 37, 38, 39, 40 ]\n",
    "\n",
    "# Danger Class IDs\n",
    "DANGER_CLASS_IDs = [ 11, 18, 19, 20, 21, 22, 23, 24, 25, 26, 27, 28, 29, 30, 31 ]"
   ]
  },
  {
   "cell_type": "code",
   "execution_count": 27,
   "metadata": {},
   "outputs": [],
   "source": [
    "# MANDATORY-Dictionary \n",
    "MANDATORY_DICT = {}\n",
    "# MANDATORY images (filenames) list\n",
    "MANDATORY_IMG_LIST = []\n",
    "# MANDATORY filepaths\n",
    "MANDATORY_FILEPATHS = []"
   ]
  },
  {
   "cell_type": "code",
   "execution_count": 28,
   "metadata": {},
   "outputs": [],
   "source": [
    "def calculate_mandatory(): \n",
    "    \"\"\"\n",
    "    Sortiert Verkehrszeichen nach der Kategorie „mandatory“ und speichert \n",
    "    die Ergebnisse in ein Dictionary.\n",
    "    Das Dictionary beinhaltet Dateinamen als Schlüssel und Listen von \n",
    "    Ground Thruth ROIs-Listen als Values.\n",
    "    \"\"\"\n",
    "    global MANDATORY_DICT\n",
    "    # Setze prohibitory dictionary zurück\n",
    "    MANDATORY_DICT.clear()\n",
    "    \n",
    "    # Öffne die gt.txt-Datei / new_gt.txt-Datei\n",
    "    with open(GT_TXT_PATH, newline='') as csvfile:\n",
    "        gt_reader = csv.reader(csvfile, delimiter=';')#gt_reader中存储的是列表类型数据，为了方便理解我们就将gt_reader看成是个列表嵌套列表的对象\n",
    "        \n",
    "        # Bau eine Schleife, um die Daten Zeile für Zeile auszulesen \n",
    "        # und die entsprechende Liste der ROIs für die Datei zu füllen\n",
    "        for row in gt_reader: #row是一个列表\n",
    "            ### TO DO ###\n",
    "            key = str(row[0])\n",
    "            if key not in MANDATORY_DICT:\n",
    "                 MANDATORY_DICT[key] = []\n",
    "            MANDATORY_DICT[key].append(list(map(int,row[1:6])))"
   ]
  },
  {
   "cell_type": "markdown",
   "metadata": {},
   "source": [
    "## Aufgabe 1 - Aussortieren bestimmter Verkehrsschilder"
   ]
  },
  {
   "cell_type": "code",
   "execution_count": 29,
   "metadata": {},
   "outputs": [
    {
     "name": "stdout",
     "output_type": "stream",
     "text": [
      "0\n"
     ]
    }
   ],
   "source": [
    "# Ermittele die Dateienamen (ausgehend von DATA_PATH) alle Treffer in MANDATORY_DICT\n",
    "# MANDATORY_FILEPATHS = os.path.splitext(DATA_PATH)[0]\n",
    "MANDATORY_FILEPATHS = [os.path.join(DATA_PATH, 'FullIJCNN2013', key) for key in MANDATORY_DICT.keys()]\n",
    "print(len(MANDATORY_FILEPATHS))"
   ]
  },
  {
   "cell_type": "code",
   "execution_count": 30,
   "metadata": {},
   "outputs": [
    {
     "name": "stdout",
     "output_type": "stream",
     "text": [
      "{'00002.ppm': [[892, 476, 1006, 592, 39]], '00005.ppm': [[1172, 164, 1284, 278, 9]], '00010.ppm': [[1193, 358, 1269, 436, 12]], '00011.ppm': [[720, 338, 770, 398, 1], [710, 265, 780, 342, 21]], '00013.ppm': [[1043, 281, 1120, 356, 2]], '00023.ppm': [[998, 292, 1074, 371, 1], [46, 350, 136, 444, 23], [945, 435, 1006, 492, 23]], '00039.ppm': [[938, 167, 1022, 251, 12], [953, 252, 1015, 313, 35]], '00040.ppm': [[1040, 310, 1130, 400, 33], [1017, 202, 1141, 313, 13]], '00046.ppm': [[1045, 126, 1166, 247, 12]], '00066.ppm': [[569, 483, 618, 535, 38]], '00074.ppm': [[383, 527, 421, 569, 38], [439, 401, 488, 452, 14], [929, 378, 981, 431, 14]], '00078.ppm': [[1211, 206, 1319, 305, 29], [800, 462, 821, 483, 13]], '00081.ppm': [[966, 228, 1044, 299, 13], [233, 499, 249, 521, 38]], '00083.ppm': [[1054, 208, 1152, 296, 13], [1071, 297, 1142, 368, 40]], '00098.ppm': [[1206, 244, 1296, 323, 13], [594, 286, 668, 353, 13]], '00114.ppm': [[1169, 421, 1231, 484, 3]], '00115.ppm': [[850, 218, 950, 317, 14], [330, 523, 351, 545, 38]], '00121.ppm': [[91, 308, 185, 416, 7]], '00132.ppm': [[314, 306, 393, 377, 18]], '00138.ppm': [[157, 179, 235, 268, 15], [1302, 399, 1336, 432, 15]], '00149.ppm': [[1131, 274, 1221, 361, 4], [1110, 158, 1231, 273, 12], [703, 461, 725, 483, 12]], '00163.ppm': [[753, 473, 825, 545, 38]], '00169.ppm': [[1089, 153, 1212, 276, 2]], '00185.ppm': [[967, 150, 1076, 257, 2]], '00205.ppm': [[1202, 332, 1326, 449, 25]], '00207.ppm': [[870, 313, 942, 378, 25]], '00208.ppm': [[638, 239, 732, 319, 18]], '00214.ppm': [[1185, 130, 1295, 236, 14], [1214, 241, 1288, 312, 33]], '00224.ppm': [[932, 188, 1024, 278, 28], [923, 276, 977, 341, 1], [977, 263, 1042, 333, 9]], '00225.ppm': [[856, 268, 924, 334, 1]], '00226.ppm': [[1152, 224, 1220, 290, 1]], '00227.ppm': [[1228, 259, 1306, 329, 18]], '00228.ppm': [[937, 295, 998, 356, 1]], '00236.ppm': [[1081, 274, 1199, 402, 14]], '00241.ppm': [[838, 400, 880, 442, 2]], '00253.ppm': [[1186, 134, 1301, 244, 9]], '00254.ppm': [[1172, 270, 1237, 336, 2], [1264, 368, 1295, 398, 23]], '00255.ppm': [[183, 503, 260, 581, 38]], '00260.ppm': [[720, 266, 784, 330, 0]], '00262.ppm': [[894, 282, 953, 341, 36], [1042, 37, 1146, 139, 12]], '00279.ppm': [[617, 484, 673, 540, 38]], '00280.ppm': [[1054, 392, 1083, 422, 2], [1131, 357, 1182, 408, 12]], '00284.ppm': [[980, 269, 1059, 347, 12], [993, 347, 1051, 404, 2]], '00287.ppm': [[1113, 370, 1154, 411, 2]], '00298.ppm': [[1220, 168, 1327, 264, 22], [1238, 256, 1314, 331, 2], [69, 445, 107, 475, 11]], '00304.ppm': [[504, 385, 553, 434, 35]], '00305.ppm': [[765, 368, 827, 422, 11], [549, 348, 597, 393, 18]], '00333.ppm': [[116, 414, 176, 477, 14], [753, 387, 808, 445, 14]], '00410.ppm': [[367, 615, 423, 671, 38]], '00411.ppm': [[185, 602, 238, 662, 38], [110, 557, 139, 588, 17], [496, 552, 529, 587, 17]], '00423.ppm': [[365, 469, 451, 547, 25], [1151, 445, 1245, 533, 25]], '00426.ppm': [[1077, 391, 1197, 502, 25]], '00434.ppm': [[167, 194, 257, 286, 5]], '00439.ppm': [[1194, 504, 1251, 564, 8]], '00461.ppm': [[1231, 264, 1302, 331, 12]], '00470.ppm': [[823, 489, 847, 513, 1], [904, 514, 938, 549, 13], [1135, 218, 1248, 331, 12]], '00472.ppm': [[880, 500, 925, 544, 12]], '00480.ppm': [[1055, 444, 1103, 492, 2]], '00482.ppm': [[732, 526, 768, 564, 12], [260, 528, 296, 570, 17], [283, 564, 303, 590, 17], [1055, 566, 1071, 587, 13]], '00491.ppm': [[430, 568, 488, 637, 38]], '00501.ppm': [[943, 557, 962, 577, 4], [610, 558, 628, 577, 4], [120, 282, 227, 386, 17], [107, 637, 216, 748, 38]], '00503.ppm': [[354, 579, 423, 650, 38]], '00524.ppm': [[187, 530, 241, 584, 7], [1219, 528, 1271, 580, 7]], '00544.ppm': [[1054, 297, 1122, 358, 11], [990, 425, 1028, 459, 25], [744, 438, 762, 458, 1]], '00556.ppm': [[1195, 499, 1253, 557, 38]], '00612.ppm': [[127, 521, 218, 612, 38], [170, 374, 246, 451, 17]], '00623.ppm': [[974, 374, 1034, 434, 4]], '00624.ppm': [[387, 505, 434, 554, 38], [821, 464, 845, 488, 2]], '00625.ppm': [[1037, 377, 1102, 443, 2]], '00640.ppm': [[1105, 353, 1176, 424, 4], [1089, 257, 1187, 355, 12]], '00645.ppm': [[1034, 311, 1090, 367, 1]], '00648.ppm': [[346, 378, 414, 439, 25]], '00649.ppm': [[819, 304, 866, 350, 12]], '00654.ppm': [[1241, 301, 1297, 360, 12]], '00655.ppm': [[935, 322, 984, 370, 12], [544, 520, 564, 540, 38]], '00668.ppm': [[1083, 254, 1172, 340, 2], [1070, 139, 1187, 254, 12]], '00679.ppm': [[720, 409, 759, 450, 33], [705, 343, 768, 406, 14]], '00682.ppm': [[278, 426, 319, 467, 35], [885, 421, 930, 466, 35], [261, 486, 290, 515, 38]], '00685.ppm': [[615, 508, 659, 552, 38]], '00688.ppm': [[850, 410, 886, 446, 14], [401, 428, 434, 461, 14]], '00697.ppm': [[944, 322, 1020, 389, 25]], '00701.ppm': [[1042, 396, 1088, 442, 2], [1032, 333, 1096, 396, 12]], '00715.ppm': [[285, 346, 351, 412, 38]], '00716.ppm': [[820, 335, 869, 386, 4], [814, 266, 882, 335, 12]], '00733.ppm': [[442, 583, 490, 632, 38], [508, 426, 543, 462, 4], [937, 523, 965, 551, 4]], '00754.ppm': [[728, 593, 767, 632, 38]], '00755.ppm': [[1084, 294, 1208, 418, 12], [852, 518, 883, 549, 1], [563, 595, 593, 625, 38]], '00773.ppm': [[879, 514, 903, 538, 1], [1048, 430, 1094, 476, 12]], '00776.ppm': [[861, 505, 893, 537, 1], [1076, 315, 1188, 427, 12], [646, 604, 667, 625, 38]], '00784.ppm': [[31, 576, 152, 701, 38]], '00795.ppm': [[168, 612, 216, 663, 38]], '00802.ppm': [[596, 181, 698, 269, 28], [610, 267, 683, 336, 1]], '00808.ppm': [[272, 463, 315, 507, 38], [795, 264, 866, 326, 28]], '00810.ppm': [[622, 319, 692, 385, 11], [460, 385, 492, 415, 18]], '00829.ppm': [[553, 399, 576, 422, 1], [1004, 253, 1114, 373, 12]], '00865.ppm': [[342, 186, 429, 273, 14], [573, 490, 597, 514, 38]], '00885.ppm': [[202, 532, 281, 611, 38], [230, 403, 296, 469, 17]], '00888.ppm': [[989, 315, 1043, 370, 35], [779, 546, 802, 569, 12]]}\n"
     ]
    }
   ],
   "source": [
    "# Funktionsaufruf\n",
    "\"\"\"\n",
    "Erwartete Ausgabe:\n",
    "    {'00002.ppm': [[892, 476, 1006, 592, 39]],\n",
    "     '00039.ppm': [[953, 252, 1015, 313, 35]],\n",
    "     '00040.ppm': [[1040, 310, 1130, 400, 33]],\n",
    "     '00066.ppm': [[569, 483, 618, 535, 38]],\n",
    "     '00074.ppm': [[383, 527, 421, 569, 38]],\n",
    "     '00081.ppm': [[233, 499, 249, 521, 38]],\n",
    "     ...}\n",
    "\"\"\"\n",
    "calculate_mandatory()\n",
    "print(MANDATORY_DICT)"
   ]
  },
  {
   "cell_type": "code",
   "execution_count": 31,
   "metadata": {},
   "outputs": [],
   "source": [
    "def render_mandatory_rois():\n",
    "    \"\"\"\n",
    "    Malt die ROIs (Rechtecke) auf die entsprechenden Bilder und speichert \n",
    "    die in MANDATORY_IMG_LIST. \n",
    "    Hinweis:\n",
    "    Die ROIs und Bildernamen können aus MANDATORY_DICT ermittelt werden\n",
    "    \"\"\"\n",
    "    # Setze die globale variable zurück\n",
    "    MANDATORY_IMG_LIST.clear()\n",
    "    \n",
    "    for key in MANDATORY_DICT.keys():\n",
    "        file_path = os.path.join(DATA_PATH,\"FullIJCNN2013\", key)\n",
    "        img = plt.imread(file_path)\n",
    "        ### TO DO ###\n",
    "        for idx in range(len(MANDATORY_DICT[key])):\n",
    "            # Berechne Koordinaten des Rechtecks  矩形对角线的点\n",
    "            point1 = (MANDATORY_DICT[key][idx][0],MANDATORY_DICT[key][idx][1])\n",
    "            point2 = (MANDATORY_DICT[key][idx][2],MANDATORY_DICT[key][idx][3])\n",
    "            \n",
    "            # Zeichne das Rechteck\n",
    "            img = cv2.rectangle(img,point1,point2,(0,255,0),2)\n",
    "            org =  (MANDATORY_DICT[key][idx][2] + 10, MANDATORY_DICT[key][idx][1]+20)          \n",
    "            # Speichere Verkehrszeichennamen als text\n",
    "            text = str(MANDATORY_DICT[key][-1])\n",
    "            img = cv2.putText(img,text,org,cv2.FONT_HERSHEY_SIMPLEX,1,(255,0,0),5)\n",
    "            #putText(img, text, org, fontFace, fontScale, color, thickness=None, lineType=None, bottomLeftOrigin=None):\n",
    "            #图片，要添加的文字，文字添加到图片上的位置，字体的类型，字体大小，字体颜色，字体粗细\n",
    "            \n",
    "        MANDATORY_IMG_LIST.append(img)"
   ]
  },
  {
   "cell_type": "code",
   "execution_count": 32,
   "metadata": {},
   "outputs": [
    {
     "name": "stdout",
     "output_type": "stream",
     "text": [
      "98\n"
     ]
    }
   ],
   "source": [
    "# Mandatory Image list abrufen\n",
    "render_mandatory_rois()\n",
    "print(len(MANDATORY_IMG_LIST))\n",
    "# print(MANDATORY_IMG_LIST)"
   ]
  },
  {
   "cell_type": "code",
   "execution_count": 33,
   "metadata": {},
   "outputs": [],
   "source": [
    "def show_img(idx):\n",
    "    plt.figure(figsize=(16,8))\n",
    "    plt.imshow(MANDATORY_IMG_LIST[idx])\n",
    "    plt.show()"
   ]
  },
  {
   "cell_type": "code",
   "execution_count": 34,
   "metadata": {},
   "outputs": [
    {
     "data": {
      "application/vnd.jupyter.widget-view+json": {
       "model_id": "21292e7678a346cfb5bcdd92c6a5f9d7",
       "version_major": 2,
       "version_minor": 0
      },
      "text/plain": [
       "interactive(children=(IntSlider(value=0, description='idx', max=97), Output()), _dom_classes=('widget-interact…"
      ]
     },
     "metadata": {},
     "output_type": "display_data"
    }
   ],
   "source": [
    "interact(show_img, idx=widgets.IntSlider(min=0,max=len(MANDATORY_IMG_LIST)-1, step=1, value=0));"
   ]
  },
  {
   "cell_type": "markdown",
   "metadata": {},
   "source": [
    "## Aufgabe 2 – Formbasierter Ansatz\n",
    "\n",
    "\n",
    "Hier kannst du die Links abrufen, die zum Implementieren dieser Funktion nützlich sein können:\n",
    "\n",
    "- https://docs.opencv.org/4.x/da/d53/tutorial_py_houghcircles.html\n",
    "- https://docs.opencv.org/4.x/df/d9d/tutorial_py_colorspaces.html\n",
    "- https://docs.opencv.org/4.x/d4/d13/tutorial_py_filtering.html \n",
    "\n",
    "Übersicht der Tutorials: https://docs.opencv.org/4.x/d6/d00/tutorial_py_root.html"
   ]
  },
  {
   "cell_type": "code",
   "execution_count": 35,
   "metadata": {},
   "outputs": [],
   "source": [
    "def calculate_hough_cirles(filepaths, d_p, min_dist, param1, param2, min_radius, max_radius):\n",
    "    \"\"\"\n",
    "     Berechnet Hough Circles unter Berücksichtigung der Form der Verkehrszeichen\n",
    "    \"\"\"\n",
    "    \n",
    "    # Liste fuer die Speicherung des Ergebnis\n",
    "    result = []\n",
    "    predicted_dict = {}\n",
    "    \n",
    "    for filepath_ in filepaths:\n",
    "        # Lade das Bild in color_img\n",
    "        color_img = cv2.imread(filepath_, cv2.IMREAD_COLOR)\n",
    "        ### TO DO ###\n",
    "        \n",
    "        # Konvertiere das BGR-Bild in Gray.\n",
    "        # https://docs.opencv.org/4.x/df/d9d/tutorial_py_colorspaces.html\n",
    "        img_gray = cv2.cvtColor(color_img, cv2.COLOR_BGR2GRAY)\n",
    "\n",
    "        # Reduziere das Rauschen \n",
    "        # https://docs.opencv.org/4.x/d4/d13/tutorial_py_filtering.html --> Kapitel \"Image bluring\"\n",
    "        img_blurred = cv2.blur(img_gray,(5,5))\n",
    "        \n",
    "        # Ermittele die Kreisen auf dem Bild \n",
    "        # https://docs.opencv.org/4.x/da/d53/tutorial_py_houghcircles.html\n",
    "        circles = cv2.HoughCircles(img_blurred,cv2.HOUGH_GRADIENT, dp=d_p, minDist=min_dist, \n",
    "                                  param1=param1, param2=param2, minRadius=min_radius, maxRadius=max_radius)\n",
    "#         print(type(circles))\n",
    "\n",
    "        # Kreise auf das Bild malen\n",
    "        if circles is not None: \n",
    "            # Kreise-Paramater in interger umwandeln\n",
    "            circles = np.uint16(np.around(circles)) \n",
    "            #np.around()函数对输入浮点数执行5舍6入，5做特殊处理（小数点最后一位为5的舍入为与其值最接近的偶数值）。\n",
    "            \n",
    "            # Kreise auf das Bild malen\n",
    "            for point in circles[0, :]: \n",
    "                a, b, r = point[0], point[1], point[2]#color_img.shape\n",
    "                cv2.circle(img_blurred,(a,b),r,(0,255,0),2)\n",
    "                # Ermittle Koordinaten der Rechtecke, die für die Evaluation benutzt werden\n",
    "                point1 = a-r,b-r\n",
    "                point2 = a+r,b+r\n",
    "                # OPTIONAL: Rechtecke auf das Bild malen\n",
    "                cv2.rectangle(color_img,point1,point2,(0,255,0),2)\n",
    "                if os.path.split(filepath_)[-1] in predicted_dict:\n",
    "                    if a==0 and b==0 and r==0:\n",
    "                        continue\n",
    "                    predicted_dict[os.path.split(filepath_)[-1]].append([point1[0], point1[1], point2[0], point2[1]])\n",
    "                else: \n",
    "                    predicted_dict[os.path.split(filepath_)[-1]] = []\n",
    "                    if a==0 and b==0 and r==0:\n",
    "                        continue\n",
    "                    predicted_dict[os.path.split(filepath_)[-1]].append([point1[0], point1[1], point2[0], point2[1]])\n",
    "        else:\n",
    "            predicted_dict[os.path.split(filepath_)[-1]] = []                \n",
    "        result.append(color_img)\n",
    "        \n",
    "    return result, predicted_dict"
   ]
  },
  {
   "cell_type": "code",
   "execution_count": 36,
   "metadata": {},
   "outputs": [],
   "source": [
    "pred_imgs_form, predicted_rect_rois = calculate_hough_cirles(MANDATORY_FILEPATHS, \n",
    "                                                  d_p=1,\n",
    "                                                  min_dist=150, \n",
    "                                                  param1= 100, \n",
    "                                                  param2= 40, \n",
    "                                                  min_radius=5, \n",
    "                                                  max_radius=80) "
   ]
  },
  {
   "cell_type": "code",
   "execution_count": 37,
   "metadata": {},
   "outputs": [],
   "source": [
    "def show_img_form(idx):\n",
    "    plt.figure(figsize=(16,8))\n",
    "    plt.imshow(cv2.cvtColor(pred_imgs_form[idx], cv2.COLOR_BGR2RGB))\n",
    "    plt.show()"
   ]
  },
  {
   "cell_type": "code",
   "execution_count": 38,
   "metadata": {},
   "outputs": [
    {
     "ename": "TraitError",
     "evalue": "setting max < min",
     "output_type": "error",
     "traceback": [
      "\u001b[1;31m---------------------------------------------------------------------------\u001b[0m",
      "\u001b[1;31mTraitError\u001b[0m                                Traceback (most recent call last)",
      "\u001b[1;32m<ipython-input-38-071701fd1d21>\u001b[0m in \u001b[0;36m<module>\u001b[1;34m\u001b[0m\n\u001b[1;32m----> 1\u001b[1;33m \u001b[0minteract\u001b[0m\u001b[1;33m(\u001b[0m\u001b[0mshow_img_form\u001b[0m\u001b[1;33m,\u001b[0m \u001b[0midx\u001b[0m\u001b[1;33m=\u001b[0m\u001b[0mwidgets\u001b[0m\u001b[1;33m.\u001b[0m\u001b[0mIntSlider\u001b[0m\u001b[1;33m(\u001b[0m\u001b[0mmin\u001b[0m\u001b[1;33m=\u001b[0m\u001b[1;36m0\u001b[0m\u001b[1;33m,\u001b[0m \u001b[0mmax\u001b[0m\u001b[1;33m=\u001b[0m\u001b[0mlen\u001b[0m\u001b[1;33m(\u001b[0m\u001b[0mpred_imgs_form\u001b[0m\u001b[1;33m)\u001b[0m\u001b[1;33m-\u001b[0m\u001b[1;36m1\u001b[0m\u001b[1;33m,\u001b[0m \u001b[0mstep\u001b[0m\u001b[1;33m=\u001b[0m\u001b[1;36m1\u001b[0m\u001b[1;33m,\u001b[0m \u001b[0mvalue\u001b[0m\u001b[1;33m=\u001b[0m\u001b[1;36m0\u001b[0m\u001b[1;33m)\u001b[0m\u001b[1;33m)\u001b[0m\u001b[1;33m;\u001b[0m\u001b[1;33m\u001b[0m\u001b[1;33m\u001b[0m\u001b[0m\n\u001b[0m",
      "\u001b[1;32m~\\anaconda3\\envs\\bga2_sose_22_220425\\lib\\site-packages\\ipywidgets\\widgets\\widget_int.py\u001b[0m in \u001b[0;36m__init__\u001b[1;34m(self, value, min, max, step, **kwargs)\u001b[0m\n\u001b[0;32m     59\u001b[0m         \u001b[1;32mif\u001b[0m \u001b[0mstep\u001b[0m \u001b[1;32mis\u001b[0m \u001b[1;32mnot\u001b[0m \u001b[1;32mNone\u001b[0m\u001b[1;33m:\u001b[0m\u001b[1;33m\u001b[0m\u001b[1;33m\u001b[0m\u001b[0m\n\u001b[0;32m     60\u001b[0m             \u001b[0mkwargs\u001b[0m\u001b[1;33m[\u001b[0m\u001b[1;34m'step'\u001b[0m\u001b[1;33m]\u001b[0m \u001b[1;33m=\u001b[0m \u001b[0mstep\u001b[0m\u001b[1;33m\u001b[0m\u001b[1;33m\u001b[0m\u001b[0m\n\u001b[1;32m---> 61\u001b[1;33m         \u001b[0msuper\u001b[0m\u001b[1;33m(\u001b[0m\u001b[0mcls\u001b[0m\u001b[1;33m,\u001b[0m \u001b[0mself\u001b[0m\u001b[1;33m)\u001b[0m\u001b[1;33m.\u001b[0m\u001b[0m__init__\u001b[0m\u001b[1;33m(\u001b[0m\u001b[1;33m**\u001b[0m\u001b[0mkwargs\u001b[0m\u001b[1;33m)\u001b[0m\u001b[1;33m\u001b[0m\u001b[1;33m\u001b[0m\u001b[0m\n\u001b[0m\u001b[0;32m     62\u001b[0m \u001b[1;33m\u001b[0m\u001b[0m\n\u001b[0;32m     63\u001b[0m     \u001b[0m__init__\u001b[0m\u001b[1;33m.\u001b[0m\u001b[0m__doc__\u001b[0m \u001b[1;33m=\u001b[0m \u001b[0m_bounded_int_doc_t\u001b[0m\u001b[1;33m\u001b[0m\u001b[1;33m\u001b[0m\u001b[0m\n",
      "\u001b[1;32m~\\anaconda3\\envs\\bga2_sose_22_220425\\lib\\site-packages\\ipywidgets\\widgets\\widget_int.py\u001b[0m in \u001b[0;36m__init__\u001b[1;34m(self, value, min, max, step, **kwargs)\u001b[0m\n\u001b[0;32m     91\u001b[0m         \u001b[1;32mif\u001b[0m \u001b[0mstep\u001b[0m \u001b[1;32mis\u001b[0m \u001b[1;32mnot\u001b[0m \u001b[1;32mNone\u001b[0m\u001b[1;33m:\u001b[0m\u001b[1;33m\u001b[0m\u001b[1;33m\u001b[0m\u001b[0m\n\u001b[0;32m     92\u001b[0m             \u001b[0mkwargs\u001b[0m\u001b[1;33m[\u001b[0m\u001b[1;34m'step'\u001b[0m\u001b[1;33m]\u001b[0m \u001b[1;33m=\u001b[0m \u001b[0mstep\u001b[0m\u001b[1;33m\u001b[0m\u001b[1;33m\u001b[0m\u001b[0m\n\u001b[1;32m---> 93\u001b[1;33m         \u001b[0msuper\u001b[0m\u001b[1;33m(\u001b[0m\u001b[0m_BoundedInt\u001b[0m\u001b[1;33m,\u001b[0m \u001b[0mself\u001b[0m\u001b[1;33m)\u001b[0m\u001b[1;33m.\u001b[0m\u001b[0m__init__\u001b[0m\u001b[1;33m(\u001b[0m\u001b[1;33m**\u001b[0m\u001b[0mkwargs\u001b[0m\u001b[1;33m)\u001b[0m\u001b[1;33m\u001b[0m\u001b[1;33m\u001b[0m\u001b[0m\n\u001b[0m\u001b[0;32m     94\u001b[0m \u001b[1;33m\u001b[0m\u001b[0m\n\u001b[0;32m     95\u001b[0m     \u001b[1;33m@\u001b[0m\u001b[0mvalidate\u001b[0m\u001b[1;33m(\u001b[0m\u001b[1;34m'value'\u001b[0m\u001b[1;33m)\u001b[0m\u001b[1;33m\u001b[0m\u001b[1;33m\u001b[0m\u001b[0m\n",
      "\u001b[1;32m~\\anaconda3\\envs\\bga2_sose_22_220425\\lib\\site-packages\\ipywidgets\\widgets\\widget_int.py\u001b[0m in \u001b[0;36m__init__\u001b[1;34m(self, value, **kwargs)\u001b[0m\n\u001b[0;32m     73\u001b[0m         \u001b[1;32mif\u001b[0m \u001b[0mvalue\u001b[0m \u001b[1;32mis\u001b[0m \u001b[1;32mnot\u001b[0m \u001b[1;32mNone\u001b[0m\u001b[1;33m:\u001b[0m\u001b[1;33m\u001b[0m\u001b[1;33m\u001b[0m\u001b[0m\n\u001b[0;32m     74\u001b[0m             \u001b[0mkwargs\u001b[0m\u001b[1;33m[\u001b[0m\u001b[1;34m'value'\u001b[0m\u001b[1;33m]\u001b[0m \u001b[1;33m=\u001b[0m \u001b[0mvalue\u001b[0m\u001b[1;33m\u001b[0m\u001b[1;33m\u001b[0m\u001b[0m\n\u001b[1;32m---> 75\u001b[1;33m         \u001b[0msuper\u001b[0m\u001b[1;33m(\u001b[0m\u001b[0m_Int\u001b[0m\u001b[1;33m,\u001b[0m \u001b[0mself\u001b[0m\u001b[1;33m)\u001b[0m\u001b[1;33m.\u001b[0m\u001b[0m__init__\u001b[0m\u001b[1;33m(\u001b[0m\u001b[1;33m**\u001b[0m\u001b[0mkwargs\u001b[0m\u001b[1;33m)\u001b[0m\u001b[1;33m\u001b[0m\u001b[1;33m\u001b[0m\u001b[0m\n\u001b[0m\u001b[0;32m     76\u001b[0m \u001b[1;33m\u001b[0m\u001b[0m\n\u001b[0;32m     77\u001b[0m \u001b[1;33m\u001b[0m\u001b[0m\n",
      "\u001b[1;32m~\\anaconda3\\envs\\bga2_sose_22_220425\\lib\\site-packages\\ipywidgets\\widgets\\widget.py\u001b[0m in \u001b[0;36m__init__\u001b[1;34m(self, **kwargs)\u001b[0m\n\u001b[0;32m    475\u001b[0m         \u001b[1;34m\"\"\"Public constructor\"\"\"\u001b[0m\u001b[1;33m\u001b[0m\u001b[1;33m\u001b[0m\u001b[0m\n\u001b[0;32m    476\u001b[0m         \u001b[0mself\u001b[0m\u001b[1;33m.\u001b[0m\u001b[0m_model_id\u001b[0m \u001b[1;33m=\u001b[0m \u001b[0mkwargs\u001b[0m\u001b[1;33m.\u001b[0m\u001b[0mpop\u001b[0m\u001b[1;33m(\u001b[0m\u001b[1;34m'model_id'\u001b[0m\u001b[1;33m,\u001b[0m \u001b[1;32mNone\u001b[0m\u001b[1;33m)\u001b[0m\u001b[1;33m\u001b[0m\u001b[1;33m\u001b[0m\u001b[0m\n\u001b[1;32m--> 477\u001b[1;33m         \u001b[0msuper\u001b[0m\u001b[1;33m(\u001b[0m\u001b[0mWidget\u001b[0m\u001b[1;33m,\u001b[0m \u001b[0mself\u001b[0m\u001b[1;33m)\u001b[0m\u001b[1;33m.\u001b[0m\u001b[0m__init__\u001b[0m\u001b[1;33m(\u001b[0m\u001b[1;33m**\u001b[0m\u001b[0mkwargs\u001b[0m\u001b[1;33m)\u001b[0m\u001b[1;33m\u001b[0m\u001b[1;33m\u001b[0m\u001b[0m\n\u001b[0m\u001b[0;32m    478\u001b[0m \u001b[1;33m\u001b[0m\u001b[0m\n\u001b[0;32m    479\u001b[0m         \u001b[0mWidget\u001b[0m\u001b[1;33m.\u001b[0m\u001b[0m_call_widget_constructed\u001b[0m\u001b[1;33m(\u001b[0m\u001b[0mself\u001b[0m\u001b[1;33m)\u001b[0m\u001b[1;33m\u001b[0m\u001b[1;33m\u001b[0m\u001b[0m\n",
      "\u001b[1;32m~\\anaconda3\\envs\\bga2_sose_22_220425\\lib\\site-packages\\traitlets\\traitlets.py\u001b[0m in \u001b[0;36m__init__\u001b[1;34m(self, *args, **kwargs)\u001b[0m\n\u001b[0;32m    998\u001b[0m                 \u001b[1;32melse\u001b[0m\u001b[1;33m:\u001b[0m\u001b[1;33m\u001b[0m\u001b[1;33m\u001b[0m\u001b[0m\n\u001b[0;32m    999\u001b[0m                     \u001b[1;31m# passthrough args that don't set traits to super\u001b[0m\u001b[1;33m\u001b[0m\u001b[1;33m\u001b[0m\u001b[1;33m\u001b[0m\u001b[0m\n\u001b[1;32m-> 1000\u001b[1;33m                     \u001b[0msuper_kwargs\u001b[0m\u001b[1;33m[\u001b[0m\u001b[0mkey\u001b[0m\u001b[1;33m]\u001b[0m \u001b[1;33m=\u001b[0m \u001b[0mvalue\u001b[0m\u001b[1;33m\u001b[0m\u001b[1;33m\u001b[0m\u001b[0m\n\u001b[0m\u001b[0;32m   1001\u001b[0m         \u001b[1;32mtry\u001b[0m\u001b[1;33m:\u001b[0m\u001b[1;33m\u001b[0m\u001b[1;33m\u001b[0m\u001b[0m\n\u001b[0;32m   1002\u001b[0m             \u001b[0msuper\u001b[0m\u001b[1;33m(\u001b[0m\u001b[0mHasTraits\u001b[0m\u001b[1;33m,\u001b[0m \u001b[0mself\u001b[0m\u001b[1;33m)\u001b[0m\u001b[1;33m.\u001b[0m\u001b[0m__init__\u001b[0m\u001b[1;33m(\u001b[0m\u001b[1;33m*\u001b[0m\u001b[0msuper_args\u001b[0m\u001b[1;33m,\u001b[0m \u001b[1;33m**\u001b[0m\u001b[0msuper_kwargs\u001b[0m\u001b[1;33m)\u001b[0m\u001b[1;33m\u001b[0m\u001b[1;33m\u001b[0m\u001b[0m\n",
      "\u001b[1;32m~\\anaconda3\\envs\\bga2_sose_22_220425\\lib\\contextlib.py\u001b[0m in \u001b[0;36m__exit__\u001b[1;34m(self, type, value, traceback)\u001b[0m\n\u001b[0;32m     86\u001b[0m         \u001b[1;32mif\u001b[0m \u001b[0mtype\u001b[0m \u001b[1;32mis\u001b[0m \u001b[1;32mNone\u001b[0m\u001b[1;33m:\u001b[0m\u001b[1;33m\u001b[0m\u001b[1;33m\u001b[0m\u001b[0m\n\u001b[0;32m     87\u001b[0m             \u001b[1;32mtry\u001b[0m\u001b[1;33m:\u001b[0m\u001b[1;33m\u001b[0m\u001b[1;33m\u001b[0m\u001b[0m\n\u001b[1;32m---> 88\u001b[1;33m                 \u001b[0mnext\u001b[0m\u001b[1;33m(\u001b[0m\u001b[0mself\u001b[0m\u001b[1;33m.\u001b[0m\u001b[0mgen\u001b[0m\u001b[1;33m)\u001b[0m\u001b[1;33m\u001b[0m\u001b[1;33m\u001b[0m\u001b[0m\n\u001b[0m\u001b[0;32m     89\u001b[0m             \u001b[1;32mexcept\u001b[0m \u001b[0mStopIteration\u001b[0m\u001b[1;33m:\u001b[0m\u001b[1;33m\u001b[0m\u001b[1;33m\u001b[0m\u001b[0m\n\u001b[0;32m     90\u001b[0m                 \u001b[1;32mreturn\u001b[0m \u001b[1;32mFalse\u001b[0m\u001b[1;33m\u001b[0m\u001b[1;33m\u001b[0m\u001b[0m\n",
      "\u001b[1;32m~\\anaconda3\\envs\\bga2_sose_22_220425\\lib\\site-packages\\traitlets\\traitlets.py\u001b[0m in \u001b[0;36mhold_trait_notifications\u001b[1;34m(self)\u001b[0m\n\u001b[0;32m   1120\u001b[0m                                 \u001b[0mself\u001b[0m\u001b[1;33m.\u001b[0m\u001b[0m_trait_values\u001b[0m\u001b[1;33m.\u001b[0m\u001b[0mpop\u001b[0m\u001b[1;33m(\u001b[0m\u001b[0mname\u001b[0m\u001b[1;33m)\u001b[0m\u001b[1;33m\u001b[0m\u001b[1;33m\u001b[0m\u001b[0m\n\u001b[0;32m   1121\u001b[0m                 \u001b[0mcache\u001b[0m \u001b[1;33m=\u001b[0m \u001b[1;33m{\u001b[0m\u001b[1;33m}\u001b[0m\u001b[1;33m\u001b[0m\u001b[1;33m\u001b[0m\u001b[0m\n\u001b[1;32m-> 1122\u001b[1;33m                 \u001b[1;32mraise\u001b[0m \u001b[0me\u001b[0m\u001b[1;33m\u001b[0m\u001b[1;33m\u001b[0m\u001b[0m\n\u001b[0m\u001b[0;32m   1123\u001b[0m             \u001b[1;32mfinally\u001b[0m\u001b[1;33m:\u001b[0m\u001b[1;33m\u001b[0m\u001b[1;33m\u001b[0m\u001b[0m\n\u001b[0;32m   1124\u001b[0m                 \u001b[0mself\u001b[0m\u001b[1;33m.\u001b[0m\u001b[0m_cross_validation_lock\u001b[0m \u001b[1;33m=\u001b[0m \u001b[1;32mFalse\u001b[0m\u001b[1;33m\u001b[0m\u001b[1;33m\u001b[0m\u001b[0m\n",
      "\u001b[1;32m~\\anaconda3\\envs\\bga2_sose_22_220425\\lib\\site-packages\\traitlets\\traitlets.py\u001b[0m in \u001b[0;36mhold_trait_notifications\u001b[1;34m(self)\u001b[0m\n\u001b[0;32m   1106\u001b[0m                 \u001b[1;32mfor\u001b[0m \u001b[0mname\u001b[0m \u001b[1;32min\u001b[0m \u001b[0mlist\u001b[0m\u001b[1;33m(\u001b[0m\u001b[0mcache\u001b[0m\u001b[1;33m.\u001b[0m\u001b[0mkeys\u001b[0m\u001b[1;33m(\u001b[0m\u001b[1;33m)\u001b[0m\u001b[1;33m)\u001b[0m\u001b[1;33m:\u001b[0m\u001b[1;33m\u001b[0m\u001b[1;33m\u001b[0m\u001b[0m\n\u001b[0;32m   1107\u001b[0m                     \u001b[0mtrait\u001b[0m \u001b[1;33m=\u001b[0m \u001b[0mgetattr\u001b[0m\u001b[1;33m(\u001b[0m\u001b[0mself\u001b[0m\u001b[1;33m.\u001b[0m\u001b[0m__class__\u001b[0m\u001b[1;33m,\u001b[0m \u001b[0mname\u001b[0m\u001b[1;33m)\u001b[0m\u001b[1;33m\u001b[0m\u001b[1;33m\u001b[0m\u001b[0m\n\u001b[1;32m-> 1108\u001b[1;33m                     \u001b[0mvalue\u001b[0m \u001b[1;33m=\u001b[0m \u001b[0mtrait\u001b[0m\u001b[1;33m.\u001b[0m\u001b[0m_cross_validate\u001b[0m\u001b[1;33m(\u001b[0m\u001b[0mself\u001b[0m\u001b[1;33m,\u001b[0m \u001b[0mgetattr\u001b[0m\u001b[1;33m(\u001b[0m\u001b[0mself\u001b[0m\u001b[1;33m,\u001b[0m \u001b[0mname\u001b[0m\u001b[1;33m)\u001b[0m\u001b[1;33m)\u001b[0m\u001b[1;33m\u001b[0m\u001b[1;33m\u001b[0m\u001b[0m\n\u001b[0m\u001b[0;32m   1109\u001b[0m                     \u001b[0mself\u001b[0m\u001b[1;33m.\u001b[0m\u001b[0mset_trait\u001b[0m\u001b[1;33m(\u001b[0m\u001b[0mname\u001b[0m\u001b[1;33m,\u001b[0m \u001b[0mvalue\u001b[0m\u001b[1;33m)\u001b[0m\u001b[1;33m\u001b[0m\u001b[1;33m\u001b[0m\u001b[0m\n\u001b[0;32m   1110\u001b[0m             \u001b[1;32mexcept\u001b[0m \u001b[0mTraitError\u001b[0m \u001b[1;32mas\u001b[0m \u001b[0me\u001b[0m\u001b[1;33m:\u001b[0m\u001b[1;33m\u001b[0m\u001b[1;33m\u001b[0m\u001b[0m\n",
      "\u001b[1;32m~\\anaconda3\\envs\\bga2_sose_22_220425\\lib\\site-packages\\traitlets\\traitlets.py\u001b[0m in \u001b[0;36m_cross_validate\u001b[1;34m(self, obj, value)\u001b[0m\n\u001b[0;32m    597\u001b[0m         \u001b[1;32mif\u001b[0m \u001b[0mself\u001b[0m\u001b[1;33m.\u001b[0m\u001b[0mname\u001b[0m \u001b[1;32min\u001b[0m \u001b[0mobj\u001b[0m\u001b[1;33m.\u001b[0m\u001b[0m_trait_validators\u001b[0m\u001b[1;33m:\u001b[0m\u001b[1;33m\u001b[0m\u001b[1;33m\u001b[0m\u001b[0m\n\u001b[0;32m    598\u001b[0m             \u001b[0mproposal\u001b[0m \u001b[1;33m=\u001b[0m \u001b[0mBunch\u001b[0m\u001b[1;33m(\u001b[0m\u001b[1;33m{\u001b[0m\u001b[1;34m'trait'\u001b[0m\u001b[1;33m:\u001b[0m \u001b[0mself\u001b[0m\u001b[1;33m,\u001b[0m \u001b[1;34m'value'\u001b[0m\u001b[1;33m:\u001b[0m \u001b[0mvalue\u001b[0m\u001b[1;33m,\u001b[0m \u001b[1;34m'owner'\u001b[0m\u001b[1;33m:\u001b[0m \u001b[0mobj\u001b[0m\u001b[1;33m}\u001b[0m\u001b[1;33m)\u001b[0m\u001b[1;33m\u001b[0m\u001b[1;33m\u001b[0m\u001b[0m\n\u001b[1;32m--> 599\u001b[1;33m             \u001b[0mvalue\u001b[0m \u001b[1;33m=\u001b[0m \u001b[0mobj\u001b[0m\u001b[1;33m.\u001b[0m\u001b[0m_trait_validators\u001b[0m\u001b[1;33m[\u001b[0m\u001b[0mself\u001b[0m\u001b[1;33m.\u001b[0m\u001b[0mname\u001b[0m\u001b[1;33m]\u001b[0m\u001b[1;33m(\u001b[0m\u001b[0mobj\u001b[0m\u001b[1;33m,\u001b[0m \u001b[0mproposal\u001b[0m\u001b[1;33m)\u001b[0m\u001b[1;33m\u001b[0m\u001b[1;33m\u001b[0m\u001b[0m\n\u001b[0m\u001b[0;32m    600\u001b[0m         \u001b[1;32melif\u001b[0m \u001b[0mhasattr\u001b[0m\u001b[1;33m(\u001b[0m\u001b[0mobj\u001b[0m\u001b[1;33m,\u001b[0m \u001b[1;34m'_%s_validate'\u001b[0m \u001b[1;33m%\u001b[0m \u001b[0mself\u001b[0m\u001b[1;33m.\u001b[0m\u001b[0mname\u001b[0m\u001b[1;33m)\u001b[0m\u001b[1;33m:\u001b[0m\u001b[1;33m\u001b[0m\u001b[1;33m\u001b[0m\u001b[0m\n\u001b[0;32m    601\u001b[0m             \u001b[0mmeth_name\u001b[0m \u001b[1;33m=\u001b[0m \u001b[1;34m'_%s_validate'\u001b[0m \u001b[1;33m%\u001b[0m \u001b[0mself\u001b[0m\u001b[1;33m.\u001b[0m\u001b[0mname\u001b[0m\u001b[1;33m\u001b[0m\u001b[1;33m\u001b[0m\u001b[0m\n",
      "\u001b[1;32m~\\anaconda3\\envs\\bga2_sose_22_220425\\lib\\site-packages\\traitlets\\traitlets.py\u001b[0m in \u001b[0;36m__call__\u001b[1;34m(self, *args, **kwargs)\u001b[0m\n\u001b[0;32m    905\u001b[0m         \u001b[1;34m\"\"\"Pass `*args` and `**kwargs` to the handler's function if it exists.\"\"\"\u001b[0m\u001b[1;33m\u001b[0m\u001b[1;33m\u001b[0m\u001b[0m\n\u001b[0;32m    906\u001b[0m         \u001b[1;32mif\u001b[0m \u001b[0mhasattr\u001b[0m\u001b[1;33m(\u001b[0m\u001b[0mself\u001b[0m\u001b[1;33m,\u001b[0m \u001b[1;34m'func'\u001b[0m\u001b[1;33m)\u001b[0m\u001b[1;33m:\u001b[0m\u001b[1;33m\u001b[0m\u001b[1;33m\u001b[0m\u001b[0m\n\u001b[1;32m--> 907\u001b[1;33m             \u001b[1;32mreturn\u001b[0m \u001b[0mself\u001b[0m\u001b[1;33m.\u001b[0m\u001b[0mfunc\u001b[0m\u001b[1;33m(\u001b[0m\u001b[1;33m*\u001b[0m\u001b[0margs\u001b[0m\u001b[1;33m,\u001b[0m \u001b[1;33m**\u001b[0m\u001b[0mkwargs\u001b[0m\u001b[1;33m)\u001b[0m\u001b[1;33m\u001b[0m\u001b[1;33m\u001b[0m\u001b[0m\n\u001b[0m\u001b[0;32m    908\u001b[0m         \u001b[1;32melse\u001b[0m\u001b[1;33m:\u001b[0m\u001b[1;33m\u001b[0m\u001b[1;33m\u001b[0m\u001b[0m\n\u001b[0;32m    909\u001b[0m             \u001b[1;32mreturn\u001b[0m \u001b[0mself\u001b[0m\u001b[1;33m.\u001b[0m\u001b[0m_init_call\u001b[0m\u001b[1;33m(\u001b[0m\u001b[1;33m*\u001b[0m\u001b[0margs\u001b[0m\u001b[1;33m,\u001b[0m \u001b[1;33m**\u001b[0m\u001b[0mkwargs\u001b[0m\u001b[1;33m)\u001b[0m\u001b[1;33m\u001b[0m\u001b[1;33m\u001b[0m\u001b[0m\n",
      "\u001b[1;32m~\\anaconda3\\envs\\bga2_sose_22_220425\\lib\\site-packages\\ipywidgets\\widgets\\widget_int.py\u001b[0m in \u001b[0;36m_validate_max\u001b[1;34m(self, proposal)\u001b[0m\n\u001b[0;32m    116\u001b[0m         \u001b[0mmax\u001b[0m \u001b[1;33m=\u001b[0m \u001b[0mproposal\u001b[0m\u001b[1;33m[\u001b[0m\u001b[1;34m'value'\u001b[0m\u001b[1;33m]\u001b[0m\u001b[1;33m\u001b[0m\u001b[1;33m\u001b[0m\u001b[0m\n\u001b[0;32m    117\u001b[0m         \u001b[1;32mif\u001b[0m \u001b[0mmax\u001b[0m \u001b[1;33m<\u001b[0m \u001b[0mself\u001b[0m\u001b[1;33m.\u001b[0m\u001b[0mmin\u001b[0m\u001b[1;33m:\u001b[0m\u001b[1;33m\u001b[0m\u001b[1;33m\u001b[0m\u001b[0m\n\u001b[1;32m--> 118\u001b[1;33m             \u001b[1;32mraise\u001b[0m \u001b[0mTraitError\u001b[0m\u001b[1;33m(\u001b[0m\u001b[1;34m'setting max < min'\u001b[0m\u001b[1;33m)\u001b[0m\u001b[1;33m\u001b[0m\u001b[1;33m\u001b[0m\u001b[0m\n\u001b[0m\u001b[0;32m    119\u001b[0m         \u001b[1;32mif\u001b[0m \u001b[0mmax\u001b[0m \u001b[1;33m<\u001b[0m \u001b[0mself\u001b[0m\u001b[1;33m.\u001b[0m\u001b[0mvalue\u001b[0m\u001b[1;33m:\u001b[0m\u001b[1;33m\u001b[0m\u001b[1;33m\u001b[0m\u001b[0m\n\u001b[0;32m    120\u001b[0m             \u001b[0mself\u001b[0m\u001b[1;33m.\u001b[0m\u001b[0mvalue\u001b[0m \u001b[1;33m=\u001b[0m \u001b[0mmax\u001b[0m\u001b[1;33m\u001b[0m\u001b[1;33m\u001b[0m\u001b[0m\n",
      "\u001b[1;31mTraitError\u001b[0m: setting max < min"
     ]
    }
   ],
   "source": [
    "interact(show_img_form, idx=widgets.IntSlider(min=0, max=len(pred_imgs_form)-1, step=1, value=0));"
   ]
  },
  {
   "cell_type": "markdown",
   "metadata": {},
   "source": [
    "## Aufgabe 3 – Optimierung und Evaluation des formbasierten Ansatzes\n",
    "对基于形式的方法进行优化和评估"
   ]
  },
  {
   "cell_type": "code",
   "execution_count": null,
   "metadata": {},
   "outputs": [],
   "source": [
    "def jaccard_similarity(pred, gr_truth):\n",
    "    '''\n",
    "    Berechnet den Jaccard-Koeffizienten für zwei Rechtecke: den vorhergesagen (pred) und den ground_truth (gr_truth)\n",
    "    Jaccard系数（Jaccard index），又称为Jaccard相似系数（Jaccard similarity coefficient）用于比较有限样本集之间的相似性与差异性。\n",
    "    Jaccard系数：给定两个集合A和B，Jaccard系数定义为A与B交集的大小与A与B并集的大小的比值\n",
    "    J(A,B)∈[0,1]。Jaccard系数值越大，样本相似度越高。当集合A，B都为空时，J(A,B)定义为1。\n",
    "    Jaccard 距离：用于描述集合之间的不相似度。\n",
    "    '''\n",
    "    # Ermittle die (x, y)-Koordinaten der Schnittmenge beider Rechtecke x,y指的哪个矩形的坐标\n",
    "    x_i1 = max(pred[0], gr_truth[0])\n",
    "    y_i1 = max(pred[1], gr_truth[1])\n",
    "    x_i2 = min(pred[2], gr_truth[2])\n",
    "    y_i2 = min(pred[3], gr_truth[3])\n",
    "\n",
    "    inter_area = max(0, x_i2 - x_i1 + 1) * max(0, y_i2 - y_i1 + 1)\n",
    "\n",
    "    pred_area = (pred[2] - pred[0] + 1) * (pred[3] - pred[1] + 1)\n",
    "    gr_truth_area = (gr_truth[2] - gr_truth[0] + 1) * (gr_truth[3] - gr_truth[1] + 1)\n",
    "    \n",
    "    iou = inter_area / float(pred_area + gr_truth_area - inter_area)\n",
    "    \n",
    "    # Gebe den \"Intersection Over Union\"-Wert zurück\n",
    "    return iou"
   ]
  },
  {
   "cell_type": "code",
   "execution_count": null,
   "metadata": {},
   "outputs": [],
   "source": [
    "def evaluate_detection(ground_truth_dict, predicted_dict, similarity_threshold=0.6):    \n",
    "    '''\n",
    "    Evaluiert implementierte Ansätze anhand des Jaccard-Ähnlichkeitsmaßes\n",
    "    Referenz für die Berechnung: Houben et. al. Kapitel IV Evaluation Procedure\n",
    "    '''\n",
    "    # True Positives\n",
    "    tp = 0\n",
    "    # False Positives\n",
    "    fp = 0\n",
    "    # False Negatives\n",
    "    fn = 0\n",
    "    \n",
    "    for key in ground_truth_dict.keys():\n",
    "        # Liste mit allen ROIs eines Dateinamens \n",
    "        rois_gt_lists = ground_truth_dict[key]\n",
    "        \n",
    "        # Berechne Jaccard-Ähnlichkeitsmaß von detektierten Rechtecken, die aus den Kreiskoordinaten ermittelt wurden\n",
    "        rois_pred_lists = predicted_dict[key]\n",
    "        \n",
    "        if len(rois_pred_lists) > 0:\n",
    "            for rois_gt_list in rois_gt_lists:\n",
    "                iou = [jaccard_similarity(rois_pred, rois_gt_list) for rois_pred in rois_pred_lists]\n",
    "                \n",
    "                # Liste mit den Werten, die kleiner als similarity_threshold sind\n",
    "                iou_lt_threshold = [value for value in iou if value < similarity_threshold]\n",
    "                fp = fp + len(iou_lt_threshold)\n",
    "                \n",
    "                # Liste mit den Werten, die größer / gleich similarity_threshold sind\n",
    "                iou_gt_threshold = [value for value in iou if value >= similarity_threshold]\n",
    "                \n",
    "                if len(iou_gt_threshold) > 0 : \n",
    "                    tp = tp + 1\n",
    "                else:\n",
    "                    fn = fn + 1\n",
    "        else:\n",
    "            fn = fn + len(rois_gt_lists)\n",
    "\n",
    "    return tp, fp, fn            "
   ]
  },
  {
   "cell_type": "code",
   "execution_count": null,
   "metadata": {},
   "outputs": [],
   "source": [
    "def calculate_precision_recall(tp, fp, fn):\n",
    "    '''\n",
    "    Berechnet Precision- und Recall-Werte\n",
    "    '''\n",
    "    \n",
    "    precision = math.nan #Python math.nan 返回一个浮点值 nan（not a number，不是一个数字），这个值不是一个合法数字。\n",
    "    # precision = float('nan') math.nan 相当于 float('nan') 的输出。\n",
    "    if tp + fp != 0:\n",
    "        precision = tp / (tp + fp)   \n",
    "    \n",
    "    recall = math.nan\n",
    "    # recall = float('nan')\n",
    "    if tp + fn != 0:\n",
    "        recall = tp / (tp + fn)\n",
    "        \n",
    "    return precision, recall"
   ]
  },
  {
   "cell_type": "code",
   "execution_count": null,
   "metadata": {},
   "outputs": [],
   "source": [
    "# similarity_threshold entspricht dem Schwellenwert im Paper von Houben et. al.\n",
    "# tp_form, fp_form, fn_form = evaluate_detection(MANDATORY_DICT, predicted_rect_rois, similarity_threshold=0.6)"
   ]
  },
  {
   "cell_type": "code",
   "execution_count": null,
   "metadata": {},
   "outputs": [],
   "source": [
    "# Precision-Recall-Plot\n",
    "### TO DO ###"
   ]
  },
  {
   "cell_type": "code",
   "execution_count": null,
   "metadata": {},
   "outputs": [],
   "source": [
    "precision_list = []\n",
    "recall_list = []\n",
    "for value in range(100,40,-2):\n",
    "    pred_imgs_form, predicted_rect_rois = calculate_hough_cirles(MANDATORY_FILEPATHS, \n",
    "                                                  d_p=1,\n",
    "                                                  min_dist=150, \n",
    "                                                  param1= 100, \n",
    "                                                  param2= value, \n",
    "                                                  min_radius=5, \n",
    "                                                  max_radius=80) \n",
    "    tp_form,fp_form,fn_form = evaluate_detection(MANDATORY_DICT,predicted_rect_rois,similarity_threshold=0.6)\n",
    "    precision,recall =calculate_precision_recall(tp_form,fp_form,fn_form)\n",
    "    precision_list.append(precision)\n",
    "    recall_list.append(recall)\n",
    "    \n",
    "plt.figure()\n",
    "plt.plot(recall_list,precision_list,marker='.',label='Hough Circle')\n",
    "plt.title('PR-curve')\n",
    "plt.xlabel('recall')\n",
    "plt.ylabel('precision')\n",
    "plt.legend()\n",
    "plt.show()"
   ]
  },
  {
   "cell_type": "code",
   "execution_count": null,
   "metadata": {},
   "outputs": [],
   "source": []
  },
  {
   "cell_type": "code",
   "execution_count": null,
   "metadata": {},
   "outputs": [],
   "source": []
  },
  {
   "cell_type": "code",
   "execution_count": null,
   "metadata": {},
   "outputs": [],
   "source": []
  },
  {
   "cell_type": "code",
   "execution_count": null,
   "metadata": {},
   "outputs": [],
   "source": []
  }
 ],
 "metadata": {
  "kernelspec": {
   "display_name": "Python 3",
   "language": "python",
   "name": "python3"
  },
  "language_info": {
   "codemirror_mode": {
    "name": "ipython",
    "version": 3
   },
   "file_extension": ".py",
   "mimetype": "text/x-python",
   "name": "python",
   "nbconvert_exporter": "python",
   "pygments_lexer": "ipython3",
   "version": "3.6.13"
  }
 },
 "nbformat": 4,
 "nbformat_minor": 4
}
