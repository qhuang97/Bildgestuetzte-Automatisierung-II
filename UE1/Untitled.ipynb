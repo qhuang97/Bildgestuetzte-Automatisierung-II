{
 "cells": [
  {
   "cell_type": "code",
   "execution_count": null,
   "id": "54bf0000",
   "metadata": {},
   "outputs": [],
   "source": [
    "cv.line(img,start,end,color,thickness)\n",
    "cv.circle(img,centerpoint,r,color,thickness)\n",
    "cv.rectangle(img,leftupper,rightdown,color,thickness)\n",
    "cv.putText(img,text,station,font,fontsize,color,thickness,cv.LINE_AA)\n",
    "\n",
    "img.shape 形状\n",
    "img.size 图像大小\n",
    "img.dtype 数据类型\n",
    "#通道拆分\n",
    "b, g, r = cv.split(img)\n",
    "#通道合并\n",
    "img = cv.merge((b,g,r))\n",
    "#色彩空间的改变\n",
    "cv.cvtColor(input_img,flag)\n",
    "flag转换类型：cv.COLOR_BGR2GRAY,cv.COLOR_BGR2HSV\n",
    "#图像的加法\n",
    "cv.add(x,y) >255, 赋值为255\n",
    "x+y  取模"
   ]
  },
  {
   "cell_type": "code",
   "execution_count": null,
   "id": "69304136",
   "metadata": {},
   "outputs": [],
   "source": [
    "直方图"
   ]
  }
 ],
 "metadata": {
  "kernelspec": {
   "display_name": "Python 3",
   "language": "python",
   "name": "python3"
  },
  "language_info": {
   "codemirror_mode": {
    "name": "ipython",
    "version": 3
   },
   "file_extension": ".py",
   "mimetype": "text/x-python",
   "name": "python",
   "nbconvert_exporter": "python",
   "pygments_lexer": "ipython3",
   "version": "3.6.13"
  }
 },
 "nbformat": 4,
 "nbformat_minor": 5
}
