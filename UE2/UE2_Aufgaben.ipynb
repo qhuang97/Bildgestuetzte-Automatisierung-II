{
 "cells": [
  {
   "cell_type": "markdown",
   "metadata": {},
   "source": [
    "# Übung 2 Detektion von Verkehrsschildern"
   ]
  },
  {
   "cell_type": "markdown",
   "metadata": {},
   "source": [
    "**German Traffic Sign Detection Benchmark**\n",
    "\n",
    "Detallierte Beschreibung des Datensatzes siehe unter folgendem [Link](http://benchmark.ini.rub.de/?section=gtsdb&subsection=news)"
   ]
  },
  {
   "cell_type": "markdown",
   "metadata": {},
   "source": [
    "## Imports"
   ]
  },
  {
   "cell_type": "code",
   "execution_count": 1,
   "metadata": {},
   "outputs": [],
   "source": [
    "import os\n",
    "\n",
    "import csv\n",
    "import wget\n",
    "import cv2\n",
    "import math\n",
    "import numpy as np\n",
    "import pandas as pd\n",
    "import matplotlib.pyplot as plt\n",
    "from IPython.display import display\n",
    "from ipywidgets import interact, interactive, fixed, interact_manual, widgets"
   ]
  },
  {
   "cell_type": "code",
   "execution_count": 2,
   "metadata": {},
   "outputs": [],
   "source": [
    "# Testfunktion für ipywidgets: \n",
    "# Es soll ein Slider angezeigt werden. Der Wertebereich des Sliders\n",
    "# soll zwischen -10(min) und 30(max) liegen. \n",
    "# # Entsprechend der Sliderposition soll ein Ergebniswert angezeigt werden.\n",
    "# def f(x):\n",
    "#     return 3 * x\n",
    "# interact(f, x= 10);"
   ]
  },
  {
   "cell_type": "markdown",
   "metadata": {},
   "source": [
    "## Globale Variablen\n",
    "\n",
    "Um hartcodierte Bezeichner/Namen in den Funktionen zu vermeiden, definiere an dieser Stelle alle Variablen, die global verwendet werden."
   ]
  },
  {
   "cell_type": "code",
   "execution_count": 3,
   "metadata": {},
   "outputs": [],
   "source": [
    "# Definiere den Pfad zum heruntergeladenen Datenordner\n",
    "DATA_PATH = \"./../data/FullIJCNN2013/\"\n",
    "# Prüfe, ob der Pfad existiert / korrekt eingegeben wurde\n",
    "assert os.path.exists(DATA_PATH), \"Der angegebene Pfad existriert nicht.\""
   ]
  },
  {
   "cell_type": "code",
   "execution_count": 4,
   "metadata": {},
   "outputs": [],
   "source": [
    "# Definiere den Pfad zur Datei gt.txt\n",
    "\"\"\"\n",
    "TIPP: arbeite zuerst mit der Datei new_gt.txt, um den Rechenaufwand bei dem Aufruf \n",
    "der Funktion calculate_hough_cirles() zu reduzieren.\n",
    "Diese Datei enthält wenige Bilder mit meist gut sichtbaren Verkehrszeichen \n",
    "\n",
    "\"\"\"\n",
    "### TO DO ###\n",
    "# Definiere den Pfad zur gt.txt-Datei / zur new_gt.txt-Datei\n",
    "GT_TXT_PATH = \"./new_gt.txt\"\n",
    "assert os.path.exists(GT_TXT_PATH), \"Der angegebene Pfad existriert nicht.\""
   ]
  },
  {
   "cell_type": "code",
   "execution_count": 5,
   "metadata": {},
   "outputs": [],
   "source": [
    "# Prohibitory Class IDs \n",
    "PROHIBITORY_CLASS_IDs = [ 0, 1, 2, 3, 4, 5, 7, 8, 9, 10, 15, 16]\n",
    "\n",
    "# Mandatory Class IDs\n",
    "MANDATORY_CLASS_IDs = [ 33, 34, 35, 36, 37, 38, 39, 40 ]\n",
    "\n",
    "# Danger Class IDs\n",
    "DANGER_CLASS_IDs = [ 11, 18, 19, 20, 21, 22, 23, 24, 25, 26, 27, 28, 29, 30, 31 ]"
   ]
  },
  {
   "cell_type": "code",
   "execution_count": 6,
   "metadata": {},
   "outputs": [],
   "source": [
    "# MANDATORY-Dictionary \n",
    "MANDATORY_DICT = {}\n",
    "MANDATORY_DICT_CLASS = {}\n",
    "# MANDATORY images (filenames) list\n",
    "MANDATORY_IMG_LIST = []\n",
    "# MANDATORY filepaths\n",
    "MANDATORY_FILEPATHS = []"
   ]
  },
  {
   "cell_type": "markdown",
   "metadata": {},
   "source": [
    "## Aufgabe 1 - Aussortieren bestimmter Verkehrsschilder"
   ]
  },
  {
   "cell_type": "code",
   "execution_count": 7,
   "metadata": {},
   "outputs": [],
   "source": [
    "def calculate_mandatory(): \n",
    "    \"\"\"\n",
    "    Sortiert Verkehrszeichen nach der Kategorie „mandatory“ und speichert \n",
    "    die Ergebnisse in ein Dictionary.\n",
    "    Das Dictionary beinhaltet Dateinamen als Schlüssel und Listen von \n",
    "    Ground Thruth ROIs-Listen als Values.\n",
    "    \"\"\"\n",
    "    \n",
    "    # Setze prohibitory dictionary zurück\n",
    "    MANDATORY_DICT.clear()\n",
    "    \n",
    "    # Öffne die gt.txt-Datei / new_gt.txt-Datei\n",
    "    with open(GT_TXT_PATH, newline='') as csvfile:\n",
    "        gt_reader = csv.reader(csvfile, delimiter=';')\n",
    "        \n",
    "        # Bau eine Schleife, um die Daten Zeile für Zeile auszulesen \n",
    "        # und die entsprechende Liste der ROIs für die Datei zu füllen\n",
    "        for row in gt_reader:\n",
    "            if int(row[5]) in MANDATORY_CLASS_IDs:\n",
    "                roi = [int(row[1]), int(row[2]), int(row[3]), int(row[4])] # int(row[5]) dazu\n",
    "                if str(row[0]) not in MANDATORY_DICT.keys(): \n",
    "                    MANDATORY_DICT[row[0]] = [roi]\n",
    "                    MANDATORY_DICT_CLASS[row[0]] = [int(row[5])]\n",
    "                else:\n",
    "                    MANDATORY_DICT[row[0]].append(roi)\n",
    "                    MANDATORY_DICT_CLASS[row[0]].append(int(row[5]))\n",
    "        \n"
   ]
  },
  {
   "cell_type": "code",
   "execution_count": 8,
   "metadata": {},
   "outputs": [
    {
     "name": "stdout",
     "output_type": "stream",
     "text": [
      "{'00002.ppm': [[892, 476, 1006, 592]], '00039.ppm': [[953, 252, 1015, 313]], '00040.ppm': [[1040, 310, 1130, 400]], '00066.ppm': [[569, 483, 618, 535]], '00074.ppm': [[383, 527, 421, 569]], '00081.ppm': [[233, 499, 249, 521]], '00083.ppm': [[1071, 297, 1142, 368]], '00115.ppm': [[330, 523, 351, 545]], '00163.ppm': [[753, 473, 825, 545]], '00214.ppm': [[1214, 241, 1288, 312]], '00255.ppm': [[183, 503, 260, 581]], '00262.ppm': [[894, 282, 953, 341]], '00279.ppm': [[617, 484, 673, 540]], '00304.ppm': [[504, 385, 553, 434]], '00410.ppm': [[367, 615, 423, 671]], '00411.ppm': [[185, 602, 238, 662]], '00491.ppm': [[430, 568, 488, 637]], '00501.ppm': [[107, 637, 216, 748]], '00503.ppm': [[354, 579, 423, 650]], '00556.ppm': [[1195, 499, 1253, 557]], '00612.ppm': [[127, 521, 218, 612]], '00624.ppm': [[387, 505, 434, 554]], '00655.ppm': [[544, 520, 564, 540]], '00679.ppm': [[720, 409, 759, 450]], '00682.ppm': [[278, 426, 319, 467], [885, 421, 930, 466], [261, 486, 290, 515]], '00685.ppm': [[615, 508, 659, 552]], '00715.ppm': [[285, 346, 351, 412]], '00733.ppm': [[442, 583, 490, 632]], '00754.ppm': [[728, 593, 767, 632]], '00755.ppm': [[563, 595, 593, 625]], '00776.ppm': [[646, 604, 667, 625]], '00784.ppm': [[31, 576, 152, 701]], '00795.ppm': [[168, 612, 216, 663]], '00808.ppm': [[272, 463, 315, 507]], '00865.ppm': [[573, 490, 597, 514]], '00885.ppm': [[202, 532, 281, 611]], '00888.ppm': [[989, 315, 1043, 370]]}\n"
     ]
    }
   ],
   "source": [
    "# Funktionsaufruf\n",
    "\"\"\"\n",
    "Erwartete Ausgabe:\n",
    "    {'00002.ppm': [[892, 476, 1006, 592, 39]],\n",
    "     '00039.ppm': [[953, 252, 1015, 313, 35]],\n",
    "     '00040.ppm': [[1040, 310, 1130, 400, 33]],\n",
    "     '00066.ppm': [[569, 483, 618, 535, 38]],\n",
    "     '00074.ppm': [[383, 527, 421, 569, 38]],\n",
    "     '00081.ppm': [[233, 499, 249, 521, 38]],\n",
    "     ...}\n",
    "\"\"\"\n",
    "calculate_mandatory()\n",
    "print(MANDATORY_DICT)"
   ]
  },
  {
   "cell_type": "code",
   "execution_count": 9,
   "metadata": {},
   "outputs": [
    {
     "name": "stdout",
     "output_type": "stream",
     "text": [
      "37\n"
     ]
    }
   ],
   "source": [
    "# Ermittele die Dateienamen (ausgehend von DATA_PATH) alle Treffer in MANDATORY_DICT\n",
    "# MANDATORY_FILEPATHS = ...\n",
    "MANDATORY_FILEPATHS= [os.path.join(DATA_PATH, img) for img in MANDATORY_DICT.keys()]\n",
    "print(len(MANDATORY_FILEPATHS))"
   ]
  },
  {
   "cell_type": "code",
   "execution_count": 10,
   "metadata": {},
   "outputs": [],
   "source": [
    "def map_int_to_sign_name(path_to_data_folder, csv_mapping_file):\n",
    "    \"\"\"\n",
    "    Ordnet int-Zahl dem Schildnamen zu\n",
    "    Argumente: Pfad zum Datenordner, Name der csv-Datei\n",
    "    Rückgabe:  pandas-DataFrame aus der generierten csv-Datei und \n",
    "              eine Dictionary (dict) mit ClassIDs als keys und Traffic Sign Names als values\n",
    "    \"\"\"\n",
    "    \n",
    "    ###   TO DO   ###\n",
    "    csv_path = csv_mapping_file\n",
    "    \n",
    "    assert os.path.exists(csv_path), \"Der angegebene Pfad existriert nicht.\"\n",
    "    # dict_mapping-Variable soll eine Dictionary (dict) sein, mit ClassIDs als keys und Traffic Sign Names als values\n",
    "    dict_mapping = dict()\n",
    "\n",
    "    with open(os.path.join(path_to_data_folder,\"ReadMe.txt\"), 'r') as f:\n",
    "        for line in f:\n",
    "            if len(line) > 4 and \"=\" in line:\n",
    "                tmp = [int(i) for i in line.strip().split(\" \")[0] if i.isdigit()]\n",
    "                num = 0\n",
    "                if len(tmp)>1:\n",
    "                    for i in range(len(tmp)):\n",
    "                        num+= 10**(len(tmp)-i-1) * tmp[i]\n",
    "                elif tmp:\n",
    "                    num = tmp[-1]\n",
    "                if f\"{num} = \" in line:\n",
    "                    dict_mapping[num] = line.split(\"=\")[-1][:-1]\n",
    "\n",
    "    return dict_mapping"
   ]
  },
  {
   "cell_type": "code",
   "execution_count": 11,
   "metadata": {},
   "outputs": [],
   "source": [
    "DICT_MAPPING = map_int_to_sign_name(DATA_PATH, GT_TXT_PATH)"
   ]
  },
  {
   "cell_type": "code",
   "execution_count": 12,
   "metadata": {},
   "outputs": [
    {
     "name": "stdout",
     "output_type": "stream",
     "text": [
      "{0: ' speed limit 20 (prohibitory)', 1: ' speed limit 30 (prohibitory)', 2: ' speed limit 50 (prohibitory)', 3: ' speed limit 60 (prohibitory)', 4: ' speed limit 70 (prohibitory)', 5: ' speed limit 80 (prohibitory)', 6: ' restriction ends 80 (other)', 7: ' speed limit 100 (prohibitory)', 8: ' speed limit 120 (prohibitory)', 9: ' no overtaking (prohibitory)', 10: ' no overtaking (trucks) (prohibitory)', 11: ' priority at next intersection (danger)', 12: ' priority road (other)', 13: ' give way (other)', 14: ' stop (other)', 15: ' no traffic both ways (prohibitory)', 16: ' no trucks (prohibitory)', 17: ' no entry (other)', 18: ' danger (danger)', 19: ' bend left (danger)', 20: ' bend right (danger)', 21: ' bend (danger)', 22: ' uneven road (danger)', 23: ' slippery road (danger)', 24: ' road narrows (danger)', 25: ' construction (danger)', 26: ' traffic signal (danger)', 27: ' pedestrian crossing (danger)', 28: ' school crossing (danger)', 29: ' cycles crossing (danger)', 30: ' snow (danger)', 31: ' animals (danger)', 32: ' restriction ends (other)', 33: ' go right (mandatory)', 34: ' go left (mandatory)', 35: ' go straight (mandatory)', 36: ' go right or straight (mandatory)', 37: ' go left or straight (mandatory)', 38: ' keep right (mandatory)', 39: ' keep left (mandatory)', 40: ' roundabout (mandatory)', 41: ' restriction ends (overtaking) (other)', 42: ' restriction ends (overtaking (trucks)) (other)'}\n"
     ]
    }
   ],
   "source": [
    "print(DICT_MAPPING)"
   ]
  },
  {
   "cell_type": "code",
   "execution_count": 13,
   "metadata": {},
   "outputs": [],
   "source": [
    "def render_mandatory_rois():\n",
    "    \"\"\"\n",
    "    Malt die ROIs (Rechtecke) auf die entsprechenden Bilder und speichert \n",
    "    die in MANDATORY_IMG_LIST. \n",
    "    Hinweis:\n",
    "    Die ROIs und Bildernamen können aus MANDATORY_DICT ermittelt werden\n",
    "    \"\"\"\n",
    "    # Setze die globale variable zurück\n",
    "    MANDATORY_IMG_LIST.clear()\n",
    "    \n",
    "    for key in MANDATORY_DICT.keys():\n",
    "        file_path = os.path.join(DATA_PATH, key)\n",
    "        img = plt.imread(file_path)\n",
    "        ### TO DO ###\n",
    "        for idx in range(len(MANDATORY_DICT[key])):\n",
    "            # print(len(MANDATORY_DICT[key]), idx)\n",
    "            # Berechne Koordinaten des Rechtecks\n",
    "            point1 = (MANDATORY_DICT[key][idx][0], MANDATORY_DICT[key][idx][1])\n",
    "            point2 = (MANDATORY_DICT[key][idx][2], MANDATORY_DICT[key][idx][3])\n",
    "            \n",
    "             # Zeichne das Rechteck\n",
    "            color = (255, 0, 0)\n",
    "            thickness = 2\n",
    "            # Zeichne das Rechteck mit Hilfe der berechneten Koordinaten in das Bild (cv2.rectangle) ein\n",
    "            img = cv2.rectangle(img, pt1=point1, pt2=point2,color=color,thickness=thickness)\n",
    "            \n",
    "            # Speichere Verkehrszeichennamen als text\n",
    "            org = (MANDATORY_DICT[key][idx][2] + 10, MANDATORY_DICT[key][idx][1] + 20)\n",
    "            font = cv2.FONT_HERSHEY_SIMPLEX\n",
    "            fontScale = 1\n",
    "            # Speichere Verkehrszeichen-ID als string\n",
    "            text = f\"{DICT_MAPPING[MANDATORY_DICT_CLASS[key][idx]]}\"\n",
    "            # Nutze cv2.putText um die Verkehrszeichen-ID neben dem entsprechenden Verkehrszeichen zu positionieren\n",
    "            img = cv2.putText(img, text,org, font, \n",
    "                    fontScale, color, thickness, cv2.LINE_AA)\n",
    "            \n",
    "        MANDATORY_IMG_LIST.append(img)"
   ]
  },
  {
   "cell_type": "code",
   "execution_count": 14,
   "metadata": {},
   "outputs": [
    {
     "name": "stdout",
     "output_type": "stream",
     "text": [
      "37\n"
     ]
    }
   ],
   "source": [
    "# Mandatory Image list abrufen\n",
    "render_mandatory_rois()\n",
    "print(len(MANDATORY_IMG_LIST))"
   ]
  },
  {
   "cell_type": "code",
   "execution_count": 31,
   "metadata": {},
   "outputs": [],
   "source": [
    "def show_img(idx):\n",
    "    plt.figure(figsize=(16,8))\n",
    "    plt.imshow(MANDATORY_IMG_LIST[idx])\n",
    "    plt.show()"
   ]
  },
  {
   "cell_type": "code",
   "execution_count": 32,
   "metadata": {},
   "outputs": [
    {
     "data": {
      "application/vnd.jupyter.widget-view+json": {
       "model_id": "3fed913f1d9146d4b413ebd87a5846fa",
       "version_major": 2,
       "version_minor": 0
      },
      "text/plain": [
       "interactive(children=(IntSlider(value=0, description='idx', max=36), Output()), _dom_classes=('widget-interact…"
      ]
     },
     "metadata": {},
     "output_type": "display_data"
    }
   ],
   "source": [
    "interact(show_img, idx=widgets.IntSlider(min=0,max=len(MANDATORY_IMG_LIST)-1, step=1, value=0));"
   ]
  },
  {
   "cell_type": "markdown",
   "metadata": {},
   "source": [
    "## Aufgabe 2 – Formbasierter Ansatz\n",
    "\n",
    "\n",
    "Hier kannst du die Links abrufen, die zum Implementieren dieser Funktion nützlich sein können:\n",
    "\n",
    "- https://docs.opencv.org/4.x/da/d53/tutorial_py_houghcircles.html\n",
    "- https://docs.opencv.org/4.x/df/d9d/tutorial_py_colorspaces.html\n",
    "- https://docs.opencv.org/4.x/d4/d13/tutorial_py_filtering.html \n",
    "\n",
    "Übersicht der Tutorials: https://docs.opencv.org/4.x/d6/d00/tutorial_py_root.html"
   ]
  },
  {
   "cell_type": "code",
   "execution_count": 15,
   "metadata": {},
   "outputs": [],
   "source": [
    "def calculate_hough_cirles(filepaths, d_p, min_dist, param1, param2, min_radius, max_radius):\n",
    "    \"\"\"\n",
    "     Berechnet Hough Circles unter Berücksichtigung der Form der Verkehrszeichen\n",
    "    \"\"\"\n",
    "    \n",
    "    # Liste fuer die Speicherung des Ergebnis\n",
    "    result = []\n",
    "    predicted_dict = {}\n",
    "    \n",
    "    for filepath_ in filepaths:\n",
    "        # Lade das Bild in color_img\n",
    "        color_img = cv2.imread(filepath_, cv2.IMREAD_COLOR)\n",
    "        ### TO DO ###\n",
    "        \n",
    "        # Konvertiere das BGR-Bild in Gray.\n",
    "        # https://docs.opencv.org/4.x/df/d9d/tutorial_py_colorspaces.html\n",
    "        img_gray = cv2.cvtColor(color_img,cv2.COLOR_BGR2GRAY)\n",
    "       \n",
    "        # Reduziere das Rauschen \n",
    "        # https://docs.opencv.org/4.x/d4/d13/tutorial_py_filtering.html --> Kapitel \"Image bluring\"\n",
    "        img_blurred = cv2.medianBlur(img_gray,5)\n",
    "        \n",
    "        # Ermittele die Kreisen auf dem Bild \n",
    "        # https://docs.opencv.org/4.x/da/d53/tutorial_py_houghcircles.html\n",
    "        circles = cv2.HoughCircles(img_blurred,cv2.HOUGH_GRADIENT,d_p, min_dist,\n",
    "                            param1=param1,param2=param2,minRadius=min_radius,maxRadius=max_radius)\n",
    "        # Kreise auf das Bild malen\n",
    "        if circles is not None: \n",
    "            # Kreise-Paramater in interger umwandeln\n",
    "            circles = np.uint16(np.around(circles)) \n",
    "            key = filepath_.split(\"/\")[-1]\n",
    "            # Kreise auf das Bild malen\n",
    "            for idx, point in enumerate(circles[0, :]): \n",
    "                a, b, r = point[0], point[1], point[2]\n",
    "                color_img = cv2.circle(color_img, (a, b), r, (0,255,0),2)\n",
    "                # Ermittle Koordinaten der Rechtecke, die für die Evaluation benutzt werden\n",
    "                point1 = (int(max(0,a-r)), int(max(0,b-r)))\n",
    "                point2 = (int(a+r), int(b+r))\n",
    "                # OPTIONAL: Rechtecke auf das Bild malen\n",
    "                color_img =  cv2.rectangle(color_img, pt1=point1, pt2=point2,color=(255,0,0),thickness=2)\n",
    "                if os.path.split(filepath_)[-1] in predicted_dict:\n",
    "                    if a==0 and b==0 and r==0:\n",
    "                        continue\n",
    "                    predicted_dict[os.path.split(filepath_)[-1]].append([point1[0], point1[1], point2[0], point2[1]])\n",
    "                else: \n",
    "                    predicted_dict[os.path.split(filepath_)[-1]] = []\n",
    "                    if a==0 and b==0 and r==0:\n",
    "                        continue\n",
    "                    predicted_dict[os.path.split(filepath_)[-1]].append([point1[0], point1[1], point2[0], point2[1]])\n",
    "        else:\n",
    "            predicted_dict[os.path.split(filepath_)[-1]] = []\n",
    "        result.append(color_img)\n",
    "        \n",
    "    return result, predicted_dict"
   ]
  },
  {
   "cell_type": "code",
   "execution_count": 86,
   "metadata": {},
   "outputs": [
    {
     "name": "stdout",
     "output_type": "stream",
     "text": [
      "37\n"
     ]
    }
   ],
   "source": [
    "pred_imgs_form, predicted_rect_rois = calculate_hough_cirles(MANDATORY_FILEPATHS, \n",
    "                                                  d_p=1.5,\n",
    "                                                  min_dist=30, \n",
    "                                                  param1=90, \n",
    "                                                  param2=100, \n",
    "                                                  min_radius=10, # 20\n",
    "                                                  max_radius=60) # 120\n",
    "\n",
    "print(len(predicted_rect_rois.keys()))"
   ]
  },
  {
   "cell_type": "code",
   "execution_count": 84,
   "metadata": {},
   "outputs": [],
   "source": [
    "def show_img_form(idx):\n",
    "    plt.figure(figsize=(16,8))\n",
    "    plt.imshow(cv2.cvtColor(pred_imgs_form[idx], cv2.COLOR_BGR2RGB))\n",
    "    plt.show()"
   ]
  },
  {
   "cell_type": "code",
   "execution_count": 85,
   "metadata": {},
   "outputs": [
    {
     "data": {
      "application/vnd.jupyter.widget-view+json": {
       "model_id": "dd70bbbd0083412f9f8b218c7740e976",
       "version_major": 2,
       "version_minor": 0
      },
      "text/plain": [
       "interactive(children=(IntSlider(value=0, description='idx', max=9), Output()), _dom_classes=('widget-interact'…"
      ]
     },
     "metadata": {},
     "output_type": "display_data"
    }
   ],
   "source": [
    "interact(show_img_form, idx=widgets.IntSlider(min=0, max=len(pred_imgs_form)-1, step=1, value=0));"
   ]
  },
  {
   "cell_type": "markdown",
   "metadata": {},
   "source": [
    "## Aufgabe 3 – Optimierung und Evaluation des formbasierten Ansatzes"
   ]
  },
  {
   "cell_type": "code",
   "execution_count": 87,
   "metadata": {},
   "outputs": [],
   "source": [
    "def jaccard_similarity(pred, gr_truth):\n",
    "    '''\n",
    "    Berechnet den Jaccard-Koeffizienten für zwei Rechtecke: den vorhergesagen (pred) und den ground_truth (gr_truth)\n",
    "    \n",
    "    '''\n",
    "    # Ermittle die (x, y)-Koordinaten der Schnittmenge beider Rechtecke\n",
    "    x_i1 = max(pred[0], gr_truth[0])\n",
    "    y_i1 = max(pred[1], gr_truth[1])\n",
    "    x_i2 = min(pred[2], gr_truth[2])\n",
    "    y_i2 = min(pred[3], gr_truth[3])\n",
    "\n",
    "    inter_area = max(0, x_i2 - x_i1 + 1) * max(0, y_i2 - y_i1 + 1)\n",
    "\n",
    "    pred_area = (pred[2] - pred[0] + 1) * (pred[3] - pred[1] + 1)\n",
    "    gr_truth_area = (gr_truth[2] - gr_truth[0] + 1) * (gr_truth[3] - gr_truth[1] + 1)\n",
    "    \n",
    "    iou = inter_area / float(pred_area + gr_truth_area - inter_area)\n",
    "    \n",
    "    # Gebe den \"Intersection Over Union\"-Wert zurück\n",
    "    return iou"
   ]
  },
  {
   "cell_type": "code",
   "execution_count": 88,
   "metadata": {},
   "outputs": [],
   "source": [
    "def evaluate_detection(ground_truth_dict, predicted_dict, similarity_threshold=0.6):    \n",
    "    '''\n",
    "    Evaluiert implementierte Ansätze anhand des Jaccard-Ähnlichkeitsmaßes\n",
    "    Referenz für die Berechnung: Houben et. al. Kapitel IV Evaluation Procedure\n",
    "    '''\n",
    "    # True Positives\n",
    "    tp = 0\n",
    "    # False Positives\n",
    "    fp = 0\n",
    "    # False Negatives\n",
    "    fn = 0\n",
    "    \n",
    "    for key in ground_truth_dict.keys():\n",
    "        # Liste mit allen ROIs eines Dateinamens \n",
    "        rois_gt_lists = ground_truth_dict[key]\n",
    "        \n",
    "        # Berechne Jaccard-Ähnlichkeitsmaß von detektierten Rechtecken, die aus den Kreiskoordinaten ermittelt wurden\n",
    "        rois_pred_lists = predicted_dict[key]\n",
    "        \n",
    "        if len(rois_pred_lists) > 0:\n",
    "            for rois_gt_list in rois_gt_lists:\n",
    "                iou = [jaccard_similarity(rois_pred, rois_gt_list) for rois_pred in rois_pred_lists]\n",
    "                \n",
    "                # Liste mit den Werten, die kleiner als similarity_threshold sind\n",
    "                iou_lt_threshold = [value for value in iou if value < similarity_threshold]\n",
    "                fp = fp + len(iou_lt_threshold)\n",
    "                \n",
    "                # Liste mit den Werten, die größer / gleich similarity_threshold sind\n",
    "                iou_gt_threshold = [value for value in iou if value >= similarity_threshold]\n",
    "                \n",
    "                if len(iou_gt_threshold) > 0 : \n",
    "                    tp = tp + 1\n",
    "                else:\n",
    "                    fn = fn + 1\n",
    "        else:\n",
    "            fn = fn + len(rois_gt_lists)\n",
    "\n",
    "    return tp, fp, fn            "
   ]
  },
  {
   "cell_type": "code",
   "execution_count": 92,
   "metadata": {},
   "outputs": [],
   "source": [
    "def calculate_precision_recall(tp, fp, fn):\n",
    "    '''\n",
    "    Berechnet Precision- und Recall-Werte\n",
    "    '''\n",
    "    \n",
    "    precision = math.nan\n",
    "    if tp + fp != 0:\n",
    "        precision = tp / (tp + fp)   \n",
    "    \n",
    "    recall = math.nan\n",
    "    if tp + fn != 0:\n",
    "        recall = tp / (tp + fn)\n",
    "        \n",
    "    return precision, recall"
   ]
  },
  {
   "cell_type": "code",
   "execution_count": 97,
   "metadata": {},
   "outputs": [
    {
     "ename": "TypeError",
     "evalue": "object of type 'int' has no len()",
     "output_type": "error",
     "traceback": [
      "\u001b[0;31m---------------------------------------------------------------------------\u001b[0m",
      "\u001b[0;31mTypeError\u001b[0m                                 Traceback (most recent call last)",
      "\u001b[1;32m/home/arnold/Documents/TU Berlin/10 SS22/BGA II/UBs/Ub2/UE2_Aufgaben.ipynb Cell 31'\u001b[0m in \u001b[0;36m<cell line: 3>\u001b[0;34m()\u001b[0m\n\u001b[1;32m      <a href='vscode-notebook-cell:/home/arnold/Documents/TU%20Berlin/10%20SS22/BGA%20II/UBs/Ub2/UE2_Aufgaben.ipynb#ch0000027?line=0'>1</a>\u001b[0m \u001b[39m# similarity_threshold entspricht dem Schwellenwert im Paper von Houben et. al.\u001b[39;00m\n\u001b[1;32m      <a href='vscode-notebook-cell:/home/arnold/Documents/TU%20Berlin/10%20SS22/BGA%20II/UBs/Ub2/UE2_Aufgaben.ipynb#ch0000027?line=1'>2</a>\u001b[0m tp_form, fp_form, fn_form \u001b[39m=\u001b[39m evaluate_detection(MANDATORY_DICT, predicted_rect_rois, similarity_threshold\u001b[39m=\u001b[39m\u001b[39m0.6\u001b[39m)\n\u001b[0;32m----> <a href='vscode-notebook-cell:/home/arnold/Documents/TU%20Berlin/10%20SS22/BGA%20II/UBs/Ub2/UE2_Aufgaben.ipynb#ch0000027?line=2'>3</a>\u001b[0m \u001b[39mprint\u001b[39m(\u001b[39mlen\u001b[39;49m(tp_form), \u001b[39mlen\u001b[39m(fp_form), \u001b[39mlen\u001b[39m(fn_form))\n",
      "\u001b[0;31mTypeError\u001b[0m: object of type 'int' has no len()"
     ]
    }
   ],
   "source": [
    "# similarity_threshold entspricht dem Schwellenwert im Paper von Houben et. al.\n",
    "tp_form, fp_form, fn_form = evaluate_detection(MANDATORY_DICT, predicted_rect_rois, similarity_threshold=0.6)"
   ]
  },
  {
   "cell_type": "code",
   "execution_count": 96,
   "metadata": {},
   "outputs": [
    {
     "ename": "TypeError",
     "evalue": "object of type 'float' has no len()",
     "output_type": "error",
     "traceback": [
      "\u001b[0;31m---------------------------------------------------------------------------\u001b[0m",
      "\u001b[0;31mTypeError\u001b[0m                                 Traceback (most recent call last)",
      "\u001b[1;32m/home/arnold/Documents/TU Berlin/10 SS22/BGA II/UBs/Ub2/UE2_Aufgaben.ipynb Cell 32'\u001b[0m in \u001b[0;36m<cell line: 3>\u001b[0;34m()\u001b[0m\n\u001b[1;32m      <a href='vscode-notebook-cell:/home/arnold/Documents/TU%20Berlin/10%20SS22/BGA%20II/UBs/Ub2/UE2_Aufgaben.ipynb#ch0000028?line=0'>1</a>\u001b[0m \u001b[39m# Precision-Recall-Plot\u001b[39;00m\n\u001b[1;32m      <a href='vscode-notebook-cell:/home/arnold/Documents/TU%20Berlin/10%20SS22/BGA%20II/UBs/Ub2/UE2_Aufgaben.ipynb#ch0000028?line=1'>2</a>\u001b[0m precision, recall \u001b[39m=\u001b[39m calculate_precision_recall(tp_form, fp_form, fn_form)\n\u001b[0;32m----> <a href='vscode-notebook-cell:/home/arnold/Documents/TU%20Berlin/10%20SS22/BGA%20II/UBs/Ub2/UE2_Aufgaben.ipynb#ch0000028?line=2'>3</a>\u001b[0m \u001b[39mprint\u001b[39m(\u001b[39mlen\u001b[39;49m(precision), \u001b[39mlen\u001b[39m(recall))\n",
      "\u001b[0;31mTypeError\u001b[0m: object of type 'float' has no len()"
     ]
    }
   ],
   "source": [
    "# Precision-Recall-Plot\n",
    "precision, recall = calculate_precision_recall(tp_form, fp_form, fn_form)\n"
   ]
  },
  {
   "cell_type": "code",
   "execution_count": 98,
   "metadata": {},
   "outputs": [
    {
     "name": "stdout",
     "output_type": "stream",
     "text": [
      "0.10256410256410256 0.10256410256410256\n"
     ]
    }
   ],
   "source": [
    "print(precision, recall)"
   ]
  },
  {
   "cell_type": "code",
   "execution_count": null,
   "metadata": {},
   "outputs": [],
   "source": []
  }
 ],
 "metadata": {
  "interpreter": {
   "hash": "252eba9a971ead2f09c02d843b707c0117a250435484e87bac08005f61cbe421"
  },
  "kernelspec": {
   "display_name": "Python 3",
   "language": "python",
   "name": "python3"
  },
  "language_info": {
   "codemirror_mode": {
    "name": "ipython",
    "version": 3
   },
   "file_extension": ".py",
   "mimetype": "text/x-python",
   "name": "python",
   "nbconvert_exporter": "python",
   "pygments_lexer": "ipython3",
   "version": "3.6.13"
  }
 },
 "nbformat": 4,
 "nbformat_minor": 4
}
